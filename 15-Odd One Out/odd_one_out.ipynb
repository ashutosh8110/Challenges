{
 "cells": [
  {
   "cell_type": "markdown",
   "metadata": {},
   "source": [
    "# Odd One Out\n",
    "Teaching English to your AI Bot\n",
    "<html>\n",
    "    <div style=\"width:100%,background:black\">\n",
    "        <div style=\"width:150px;height:150px;margin:auto\">\n",
    "            <img src=\"https://image.flaticon.com/icons/svg/1793/1793433.svg\" >\n",
    "        </div>\n",
    "    </div>\n",
    "</html>\n",
    "\n",
    "You are making an AI Bot which can speak English. You want to add another functionality to it which helps the bot to find out the 'odd word' in a given list of words. Devise an algorithms using Word Embeddings to do the same.\n",
    "\n",
    "Hint Find out the cosine similarity of each word embedding from the average vector obtained from all of word embeddings.\n",
    "\n",
    "Data Format\n",
    "There is no training data. You can download Glove 6B.50.txt embeddings from the internet.\n",
    "\n",
    "The input file contains a list of words. For each row, make a prediction about the odd one and write the output in a new CSV file.\n",
    "\n",
    "The link is given below for downloading pre-trained word vectors: "
   ]
  },
  {
   "cell_type": "code",
   "execution_count": 1,
   "metadata": {},
   "outputs": [],
   "source": [
    "import os \n",
    "import pandas as pd\n",
    "import numpy as np"
   ]
  },
  {
   "cell_type": "code",
   "execution_count": 2,
   "metadata": {},
   "outputs": [
    {
     "data": {
      "text/plain": [
       "['.ipynb_checkpoints',\n",
       " 'glove.txt',\n",
       " 'odd_one_out.ipynb',\n",
       " 'sample_submission.csv',\n",
       " 'Test.csv',\n",
       " 'y_test.csv']"
      ]
     },
     "execution_count": 2,
     "metadata": {},
     "output_type": "execute_result"
    }
   ],
   "source": [
    "os.listdir(\"./\")"
   ]
  },
  {
   "cell_type": "code",
   "execution_count": 3,
   "metadata": {},
   "outputs": [],
   "source": [
    "with open(\"glove.txt\",encoding='mbcs') as f:\n",
    "    lines=f.readlines()"
   ]
  },
  {
   "cell_type": "code",
   "execution_count": 4,
   "metadata": {},
   "outputs": [],
   "source": [
    "glove={}\n",
    "for line in lines:\n",
    "    word=line.split()[0]\n",
    "    embedding=line.split(\" \")[1:]\n",
    "    glove[word]=np.array(embedding,dtype='float64')"
   ]
  },
  {
   "cell_type": "code",
   "execution_count": 5,
   "metadata": {},
   "outputs": [],
   "source": [
    "X_test=pd.read_csv(\"Test.csv\").values"
   ]
  },
  {
   "cell_type": "code",
   "execution_count": 6,
   "metadata": {},
   "outputs": [],
   "source": [
    "from sklearn.metrics.pairwise import cosine_similarity"
   ]
  },
  {
   "cell_type": "code",
   "execution_count": 7,
   "metadata": {},
   "outputs": [],
   "source": [
    "y_pred=[]\n",
    "for words in X_test:\n",
    "    vectors=[glove[i.lower()] for i in words]\n",
    "    v_avg=np.mean(vectors,axis=0)\n",
    "    vector_cos=[cosine_similarity([i],[v_avg])[0][0] for i in vectors]\n",
    "    \n",
    "    ans=words[np.argmin(vector_cos)]\n",
    "    \n",
    "    y_pred.append(ans)"
   ]
  },
  {
   "cell_type": "code",
   "execution_count": 23,
   "metadata": {},
   "outputs": [
    {
     "data": {
      "text/plain": [
       "['snake',\n",
       " 'man',\n",
       " 'cat',\n",
       " 'pineapple',\n",
       " 'India',\n",
       " 'is',\n",
       " 'was',\n",
       " 'Australia',\n",
       " 'Money',\n",
       " 'think',\n",
       " 'bicycle',\n",
       " 'Rome',\n",
       " 'pool',\n",
       " 'Egypt',\n",
       " 'mouse',\n",
       " 'shirt',\n",
       " 'Universe',\n",
       " 'Kidnap',\n",
       " 'Club',\n",
       " 'Sun']"
      ]
     },
     "execution_count": 23,
     "metadata": {},
     "output_type": "execute_result"
    }
   ],
   "source": [
    "y_pred"
   ]
  },
  {
   "cell_type": "code",
   "execution_count": 6,
   "metadata": {},
   "outputs": [],
   "source": [
    "Y_test=pd.DataFrame(y_pred,columns=['OddOne'])"
   ]
  },
  {
   "cell_type": "code",
   "execution_count": 7,
   "metadata": {},
   "outputs": [],
   "source": [
    "Y_test.to_csv(\"y_test.csv\",index=False)"
   ]
  },
  {
   "cell_type": "code",
   "execution_count": 9,
   "metadata": {},
   "outputs": [
    {
     "data": {
      "text/plain": [
       "array([['elephant', 'lion', 'tiger', 'goat', 'snake'],\n",
       "       ['man', 'policeman', 'fireman', 'teacher', 'postman'],\n",
       "       ['plane', 'bird', 'rocket', 'balloon', 'cat'],\n",
       "       ['onion', 'celery', 'lettuce', 'pineapple', 'potato'],\n",
       "       ['India', 'football', 'hockey', 'cricket', 'swimming'],\n",
       "       ['who', 'why', 'what', 'where', 'is'],\n",
       "       ['on', 'in', 'over', 'their', 'was'],\n",
       "       ['India', 'Australia', 'Japan', 'Russia', 'China'],\n",
       "       ['Dollar', 'Rupees', 'Euros', 'Cents', 'Money'],\n",
       "       ['eat', 'sleep', 'drink', 'think', 'dance'],\n",
       "       ['car', 'scooter', 'bike', 'bicycle', 'ship'],\n",
       "       ['Poland', 'Russia', 'England', 'Rome', 'Ukraine'],\n",
       "       ['Lake', 'Sea', 'River', 'Pool', 'Pond'],\n",
       "       ['Sun', 'Moon', 'Star', 'Mars', 'Egypt'],\n",
       "       ['fox', 'wolf', 'jackal', 'mouse', 'panther'],\n",
       "       ['veil', 'turban', 'helmet', 'shirt', 'hat'],\n",
       "       ['Physics', 'Chemistry', 'Geography', 'Botany', 'Universe'],\n",
       "       ['Assassinate', 'Kill', 'Kidnap', 'Stab', 'Murder'],\n",
       "       ['Hostel', 'Hotel', 'Inn', 'Club', 'Motel'],\n",
       "       ['Earth', 'Mars', 'Neptune', 'Pluto', 'Sun']], dtype=object)"
      ]
     },
     "execution_count": 9,
     "metadata": {},
     "output_type": "execute_result"
    }
   ],
   "source": [
    "X_test"
   ]
  },
  {
   "cell_type": "code",
   "execution_count": null,
   "metadata": {},
   "outputs": [],
   "source": []
  }
 ],
 "metadata": {
  "kernelspec": {
   "display_name": "Python 3",
   "language": "python",
   "name": "python3"
  },
  "language_info": {
   "codemirror_mode": {
    "name": "ipython",
    "version": 3
   },
   "file_extension": ".py",
   "mimetype": "text/x-python",
   "name": "python",
   "nbconvert_exporter": "python",
   "pygments_lexer": "ipython3",
   "version": "3.7.3"
  }
 },
 "nbformat": 4,
 "nbformat_minor": 2
}
