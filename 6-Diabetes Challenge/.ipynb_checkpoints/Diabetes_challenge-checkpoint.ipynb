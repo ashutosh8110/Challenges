{
 "cells": [
  {
   "cell_type": "markdown",
   "metadata": {},
   "source": [
    "# Diabetes Challenge\n",
    "#### Machine Learning in Health\n",
    "Diabetes is a condition that impairs the body's ability to process blood glucose, otherwise known as blood sugar. In the United States, the estimated number of people over 18 years of age with diagnosed and undiagnosed diabetes is 30.2 million. The figure represents between 27.9 and 32.7 percent of the population.\n",
    "\n",
    "Without ongoing, careful management, diabetes can lead to a buildup of sugars in the blood, which can increase the risk of dangerous complications, including stroke and heart disease.\n",
    "\n",
    "Different kinds of diabetes can occur, and managing the condition depends on the type. Not all forms of diabetes stem from a person being overweight or leading an inactive lifestyle. In fact, some are present from childhood.\n",
    "<html>\n",
    "    <div style=\"width:100%\">\n",
    "        <div style=\"width:150px;height:150px;margin:auto\">\n",
    "            <img src=\"https://image.flaticon.com/icons/svg/1399/1399301.svg\" >\n",
    "        </div>\n",
    "    </div>\n",
    "</html>\n",
    "\n",
    "##### Challenge\n",
    "\n",
    "In this problem you are given a Diabetes Data set consisting of following features -\n",
    "['Pregnancies', 'Glucose', 'BloodPressure', 'SkinThickness', 'Insulin', 'BMI', 'DiabetesPedigreeFunction', 'Age', 'Outcome']\n",
    "and your task is to predict whether a person is suffering from diabetes or not (Binary Classification)\n",
    "\n",
    "##### Tasks\n",
    "* Plot a bar graph showing number of classes and no of examples in each class.\n",
    "* Classification Task, classify a person as 0 or 1 (Diabetic or Not) using K-Nearest Neighbors classifier."
   ]
  },
  {
   "cell_type": "code",
   "execution_count": 1,
   "metadata": {},
   "outputs": [],
   "source": [
    "import pandas as pd\n",
    "import numpy as np"
   ]
  },
  {
   "cell_type": "code",
   "execution_count": 4,
   "metadata": {},
   "outputs": [],
   "source": [
    "X=pd.read_csv(\"Diabetes_XTrain.csv\")\n",
    "Y=pd.read_csv(\"Diabetes_YTrain.csv\")\n"
   ]
  },
  {
   "cell_type": "code",
   "execution_count": 7,
   "metadata": {},
   "outputs": [],
   "source": [
    "X=pd.read_csv(\"Diabetes_XTrain.csv\").values\n",
    "Y=np.reshape(pd.read_csv(\"Diabetes_YTrain.csv\").values,(-1,))\n"
   ]
  },
  {
   "cell_type": "code",
   "execution_count": 5,
   "metadata": {},
   "outputs": [],
   "source": [
    "data=pd.concat([X,Y],axis=1)"
   ]
  },
  {
   "cell_type": "code",
   "execution_count": 6,
   "metadata": {},
   "outputs": [
    {
     "data": {
      "text/html": [
       "<div>\n",
       "<style scoped>\n",
       "    .dataframe tbody tr th:only-of-type {\n",
       "        vertical-align: middle;\n",
       "    }\n",
       "\n",
       "    .dataframe tbody tr th {\n",
       "        vertical-align: top;\n",
       "    }\n",
       "\n",
       "    .dataframe thead th {\n",
       "        text-align: right;\n",
       "    }\n",
       "</style>\n",
       "<table border=\"1\" class=\"dataframe\">\n",
       "  <thead>\n",
       "    <tr style=\"text-align: right;\">\n",
       "      <th></th>\n",
       "      <th>Pregnancies</th>\n",
       "      <th>Glucose</th>\n",
       "      <th>BloodPressure</th>\n",
       "      <th>SkinThickness</th>\n",
       "      <th>Insulin</th>\n",
       "      <th>BMI</th>\n",
       "      <th>DiabetesPedigreeFunction</th>\n",
       "      <th>Age</th>\n",
       "      <th>Outcome</th>\n",
       "    </tr>\n",
       "  </thead>\n",
       "  <tbody>\n",
       "    <tr>\n",
       "      <th>Pregnancies</th>\n",
       "      <td>1.000000</td>\n",
       "      <td>0.175781</td>\n",
       "      <td>0.159623</td>\n",
       "      <td>-0.089059</td>\n",
       "      <td>-0.059903</td>\n",
       "      <td>0.043933</td>\n",
       "      <td>-0.036454</td>\n",
       "      <td>0.555994</td>\n",
       "      <td>0.213015</td>\n",
       "    </tr>\n",
       "    <tr>\n",
       "      <th>Glucose</th>\n",
       "      <td>0.175781</td>\n",
       "      <td>1.000000</td>\n",
       "      <td>0.151899</td>\n",
       "      <td>0.035213</td>\n",
       "      <td>0.332527</td>\n",
       "      <td>0.213883</td>\n",
       "      <td>0.151490</td>\n",
       "      <td>0.261131</td>\n",
       "      <td>0.473483</td>\n",
       "    </tr>\n",
       "    <tr>\n",
       "      <th>BloodPressure</th>\n",
       "      <td>0.159623</td>\n",
       "      <td>0.151899</td>\n",
       "      <td>1.000000</td>\n",
       "      <td>0.235094</td>\n",
       "      <td>0.102192</td>\n",
       "      <td>0.272952</td>\n",
       "      <td>0.031765</td>\n",
       "      <td>0.254055</td>\n",
       "      <td>0.072045</td>\n",
       "    </tr>\n",
       "    <tr>\n",
       "      <th>SkinThickness</th>\n",
       "      <td>-0.089059</td>\n",
       "      <td>0.035213</td>\n",
       "      <td>0.235094</td>\n",
       "      <td>1.000000</td>\n",
       "      <td>0.456451</td>\n",
       "      <td>0.403305</td>\n",
       "      <td>0.179001</td>\n",
       "      <td>-0.115892</td>\n",
       "      <td>0.067829</td>\n",
       "    </tr>\n",
       "    <tr>\n",
       "      <th>Insulin</th>\n",
       "      <td>-0.059903</td>\n",
       "      <td>0.332527</td>\n",
       "      <td>0.102192</td>\n",
       "      <td>0.456451</td>\n",
       "      <td>1.000000</td>\n",
       "      <td>0.183658</td>\n",
       "      <td>0.222323</td>\n",
       "      <td>-0.049814</td>\n",
       "      <td>0.141941</td>\n",
       "    </tr>\n",
       "    <tr>\n",
       "      <th>BMI</th>\n",
       "      <td>0.043933</td>\n",
       "      <td>0.213883</td>\n",
       "      <td>0.272952</td>\n",
       "      <td>0.403305</td>\n",
       "      <td>0.183658</td>\n",
       "      <td>1.000000</td>\n",
       "      <td>0.143271</td>\n",
       "      <td>0.051957</td>\n",
       "      <td>0.311717</td>\n",
       "    </tr>\n",
       "    <tr>\n",
       "      <th>DiabetesPedigreeFunction</th>\n",
       "      <td>-0.036454</td>\n",
       "      <td>0.151490</td>\n",
       "      <td>0.031765</td>\n",
       "      <td>0.179001</td>\n",
       "      <td>0.222323</td>\n",
       "      <td>0.143271</td>\n",
       "      <td>1.000000</td>\n",
       "      <td>0.034847</td>\n",
       "      <td>0.179672</td>\n",
       "    </tr>\n",
       "    <tr>\n",
       "      <th>Age</th>\n",
       "      <td>0.555994</td>\n",
       "      <td>0.261131</td>\n",
       "      <td>0.254055</td>\n",
       "      <td>-0.115892</td>\n",
       "      <td>-0.049814</td>\n",
       "      <td>0.051957</td>\n",
       "      <td>0.034847</td>\n",
       "      <td>1.000000</td>\n",
       "      <td>0.204733</td>\n",
       "    </tr>\n",
       "    <tr>\n",
       "      <th>Outcome</th>\n",
       "      <td>0.213015</td>\n",
       "      <td>0.473483</td>\n",
       "      <td>0.072045</td>\n",
       "      <td>0.067829</td>\n",
       "      <td>0.141941</td>\n",
       "      <td>0.311717</td>\n",
       "      <td>0.179672</td>\n",
       "      <td>0.204733</td>\n",
       "      <td>1.000000</td>\n",
       "    </tr>\n",
       "  </tbody>\n",
       "</table>\n",
       "</div>"
      ],
      "text/plain": [
       "                          Pregnancies   Glucose  BloodPressure  SkinThickness  \\\n",
       "Pregnancies                  1.000000  0.175781       0.159623      -0.089059   \n",
       "Glucose                      0.175781  1.000000       0.151899       0.035213   \n",
       "BloodPressure                0.159623  0.151899       1.000000       0.235094   \n",
       "SkinThickness               -0.089059  0.035213       0.235094       1.000000   \n",
       "Insulin                     -0.059903  0.332527       0.102192       0.456451   \n",
       "BMI                          0.043933  0.213883       0.272952       0.403305   \n",
       "DiabetesPedigreeFunction    -0.036454  0.151490       0.031765       0.179001   \n",
       "Age                          0.555994  0.261131       0.254055      -0.115892   \n",
       "Outcome                      0.213015  0.473483       0.072045       0.067829   \n",
       "\n",
       "                           Insulin       BMI  DiabetesPedigreeFunction  \\\n",
       "Pregnancies              -0.059903  0.043933                 -0.036454   \n",
       "Glucose                   0.332527  0.213883                  0.151490   \n",
       "BloodPressure             0.102192  0.272952                  0.031765   \n",
       "SkinThickness             0.456451  0.403305                  0.179001   \n",
       "Insulin                   1.000000  0.183658                  0.222323   \n",
       "BMI                       0.183658  1.000000                  0.143271   \n",
       "DiabetesPedigreeFunction  0.222323  0.143271                  1.000000   \n",
       "Age                      -0.049814  0.051957                  0.034847   \n",
       "Outcome                   0.141941  0.311717                  0.179672   \n",
       "\n",
       "                               Age   Outcome  \n",
       "Pregnancies               0.555994  0.213015  \n",
       "Glucose                   0.261131  0.473483  \n",
       "BloodPressure             0.254055  0.072045  \n",
       "SkinThickness            -0.115892  0.067829  \n",
       "Insulin                  -0.049814  0.141941  \n",
       "BMI                       0.051957  0.311717  \n",
       "DiabetesPedigreeFunction  0.034847  0.179672  \n",
       "Age                       1.000000  0.204733  \n",
       "Outcome                   0.204733  1.000000  "
      ]
     },
     "execution_count": 6,
     "metadata": {},
     "output_type": "execute_result"
    }
   ],
   "source": [
    "data.corr()"
   ]
  },
  {
   "cell_type": "code",
   "execution_count": 8,
   "metadata": {},
   "outputs": [],
   "source": [
    "X_test=pd.read_csv(\"Diabetes_XTest.csv\").values"
   ]
  },
  {
   "cell_type": "code",
   "execution_count": 11,
   "metadata": {},
   "outputs": [],
   "source": [
    "X_test=(X_test-mu)/(std)"
   ]
  },
  {
   "cell_type": "code",
   "execution_count": 10,
   "metadata": {},
   "outputs": [],
   "source": [
    "mu  = X.mean(axis=0)\n",
    "std = X.std(axis=0)\n",
    "X=(X-mu)/(std)"
   ]
  },
  {
   "cell_type": "code",
   "execution_count": 12,
   "metadata": {},
   "outputs": [
    {
     "data": {
      "text/plain": [
       "array([[ 0.97457151,  1.52528095,  0.94599501, ...,  0.78036618,\n",
       "         0.907501  ,  0.59363371],\n",
       "       [ 1.27524274, -0.31683408,  0.35393439, ..., -0.49918316,\n",
       "        -0.72639999,  2.11034006],\n",
       "       [ 0.97457151,  0.85830827,  0.35393439, ...,  0.92800649,\n",
       "        -0.66698541,  0.8464181 ],\n",
       "       ...,\n",
       "       [-0.52878465,  0.06429317, -0.43547977, ..., -0.25311598,\n",
       "         0.69954996, -0.92307263],\n",
       "       [ 0.07255781,  1.0806325 ,  0.15658085, ..., -0.06856559,\n",
       "        -0.42635635,  0.34084932],\n",
       "       [-0.82945588, -1.01556737,  0.45261116, ...,  0.01755792,\n",
       "        -0.34614667, -0.33324239]])"
      ]
     },
     "execution_count": 12,
     "metadata": {},
     "output_type": "execute_result"
    }
   ],
   "source": [
    "X"
   ]
  },
  {
   "cell_type": "code",
   "execution_count": 13,
   "metadata": {},
   "outputs": [],
   "source": [
    "def Knn(X,Y,X_co,k=17):\n",
    "    dist=[]\n",
    "    length=X.shape[0]\n",
    "    \n",
    "    distance=np.sqrt(np.sum((X-X_co)**2,axis=1))\n",
    "    dist=list(zip(distance,Y))\n",
    "    \n",
    "    dist=sorted(dist)[:k]\n",
    "    labels=np.array(dist)[:,-1]\n",
    "    \n",
    "    ans,cnt=np.unique(labels,return_counts=True)\n",
    "    return ans[np.argmax(cnt)]\n",
    "    "
   ]
  },
  {
   "cell_type": "code",
   "execution_count": 15,
   "metadata": {},
   "outputs": [],
   "source": [
    "y_pred=[]\n",
    "for i in range(X_test.shape[0]):\n",
    "    z=Knn(X,Y,X_test[i])\n",
    "    y_pred.append(int(z))"
   ]
  },
  {
   "cell_type": "code",
   "execution_count": 16,
   "metadata": {},
   "outputs": [],
   "source": [
    "Data=pd.DataFrame(y_pred)\n",
    "Data.to_csv(\"ans.csv\",index=False,header=[\"Outcome\"])"
   ]
  }
 ],
 "metadata": {
  "kernelspec": {
   "display_name": "Python 3",
   "language": "python",
   "name": "python3"
  },
  "language_info": {
   "codemirror_mode": {
    "name": "ipython",
    "version": 3
   },
   "file_extension": ".py",
   "mimetype": "text/x-python",
   "name": "python",
   "nbconvert_exporter": "python",
   "pygments_lexer": "ipython3",
   "version": "3.7.3"
  }
 },
 "nbformat": 4,
 "nbformat_minor": 2
}
