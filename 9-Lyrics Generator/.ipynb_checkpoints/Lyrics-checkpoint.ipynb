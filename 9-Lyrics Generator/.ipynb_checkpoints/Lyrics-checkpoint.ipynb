{
 "cells": [
  {
   "cell_type": "markdown",
   "metadata": {},
   "source": [
    "# Lyrics Generation!\n",
    "#### Use Markov Chains to create a Predictive Model for Text\n",
    "In this fun challenge, you will generate song lyrics for 'Apna Time Aaega' using Machine Learning for the movie Gully Boy (2019 Indian Hindi-language musical drama film). You are given a training set which contains lyrics created by Ranveer Singh, your task is to train a model using Markov Chains to generate lyrics which look similar to actual lyrics.\n",
    "<html>\n",
    "    <div style=\"width:100%\">\n",
    "        <div style=\"width:150px;height:150px;margin:auto\">\n",
    "            <img src=\"https://image.flaticon.com/icons/svg/1651/1651780.svg\" >\n",
    "        </div>\n",
    "    </div>\n",
    "</html>\n",
    "\n",
    "\n",
    "#### Dataset\n",
    "Dataset contains the text file containing actual lyrics of the song. Since the data-set is scrapped from the internet you need to remove the starting and ending\n",
    "tags and clean it before feeding to model.\n",
    "\n",
    "#### Submission Format\n",
    "Submit a '.txt' file containing generated lyrics upto 2000 characters. Your model should be able to generate new line characters as well.\n",
    "\n",
    "Your lyrics must start with the word 'apna' and use numpy random seed of 11 (for consistent result and avoid any randomization).\n",
    "\n",
    "You result will be evaluated word by word with the expected output given by Markov Chain.\n",
    "\n",
    "You can assume prediction of current character depends only on last 4 characters (Use K=4 in Markov Chain Model)"
   ]
  },
  {
   "cell_type": "code",
   "execution_count": 22,
   "metadata": {},
   "outputs": [],
   "source": [
    "import numpy as np"
   ]
  },
  {
   "cell_type": "code",
   "execution_count": 2,
   "metadata": {},
   "outputs": [],
   "source": [
    "def generatedata(doc,k=4):\n",
    "    data={}\n",
    "    for i in range(len(doc)-k):\n",
    "        word   = doc[i:i+k]\n",
    "        letter = doc[i+k]\n",
    "        \n",
    "        if word in data:\n",
    "            if letter in data[word]:\n",
    "                data[word][letter]+=1\n",
    "            else:\n",
    "                data[word][letter]=1\n",
    "                \n",
    "        else:\n",
    "            data[word]={}\n",
    "            data[word][letter]=1\n",
    "        \n",
    "    return data"
   ]
  },
  {
   "cell_type": "code",
   "execution_count": 3,
   "metadata": {},
   "outputs": [],
   "source": [
    "def convertToProbability(data):\n",
    "    \n",
    "    for word in data.keys():\n",
    "        n=sum(list(data[word].values()))\n",
    "        for i in data[word].keys():\n",
    "            data[word][i]=data[word][i]/n\n",
    "    \n",
    "    return data"
   ]
  },
  {
   "cell_type": "code",
   "execution_count": 23,
   "metadata": {},
   "outputs": [],
   "source": [
    "with open(\"Apna Time Aayega.txt\") as f:\n",
    "    text=f.read()    "
   ]
  },
  {
   "cell_type": "code",
   "execution_count": 18,
   "metadata": {},
   "outputs": [],
   "source": [
    "text=text.lower()"
   ]
  },
  {
   "cell_type": "code",
   "execution_count": 26,
   "metadata": {},
   "outputs": [],
   "source": [
    "T=generatedata(text)\n",
    "T=convertToProbability(T)"
   ]
  },
  {
   "cell_type": "code",
   "execution_count": 24,
   "metadata": {},
   "outputs": [
    {
     "name": "stdout",
     "output_type": "stream",
     "text": [
      "Apna Time Aayega\n",
      "Uth ja apni raakh se\n",
      "Tu udd ja ab talaash mein\n",
      "Parwaaz dekh parwane ki\n",
      "Aasman bhi sar uthayega\n",
      "Aayega apna time aayega\n",
      "Mere jaisa shaana lala\n",
      "Tujhe na mil payega\n",
      " \n",
      "Yeh shabdon ka jwala\n",
      "Meri bediyan pighlayega\n",
      "Jitna toone boya hai tu\n",
      "Utna hi to khaayega\n",
      "Aisa mera khwaab hai\n",
      "Jo darr ko bhi satayega\n",
      "Zinda mera khwaab\n",
      "Ab kaise tu dafnayega\n",
      " \n",
      "Ab hausle se jeene de\n",
      "Ab khauf nahi hai seene mein\n",
      "Har raaste ko cheerenge\n",
      "Hum kaamyabi chheenenge\n",
      "Sab kuchh mila paseene se\n",
      "Matlab bana ab jeene mein\n",
      " \n",
      "Kyon\n",
      "Kyon ki apna time aayega\n",
      " \n",
      "Tu nanga hi to aaya hai\n",
      "Kya ghanta lekar jaayega\n",
      "Apna time aayega\n",
      "Apna time aayega\n",
      "Apna time aayega x (2)\n",
      " \n",
      "Tu nanga hi to aaya hai\n",
      "Kya ghanta lekar..\n",
      " \n",
      "Kissi ka hath nahi tha sar par\n",
      "Yahaan par aaya khud ki mehnat se main\n",
      "Jitni taakat kismat mein nahi\n",
      "Utni rehmat mein hai\n",
      "Phir bhi ladka sehmat nahin hai\n",
      "Kyon ki hairat nahi hai\n",
      "Zaroorat yahaan marzi ki\n",
      "Aur jurrat ki hai\n",
      " \n",
      "Taakat ki hai, aafat ki\n",
      "Himaakat ki, ibaadat ki\n",
      "Adalat yeh hai chahat ki\n",
      "Mohobbat ki, amaanat ki\n",
      "Jeetne ki ab aadat ki hai\n",
      "Shohrat ki ab laalach nai hai\n",
      "Tere bhai jaisa koyi hardâ€™ch nai hai\n",
      " \n",
      "Iss harkat ne hi barkat di hai\n",
      "Kyon?\n",
      " \n",
      "Tu nanga hi to aaya hai\n",
      "Kya ghanta lekar jaayega\n",
      "Apna time aayega\n",
      "Apna time aayega\n",
      "Apna time aayega\n",
      " \n",
      "Tu nanga hi to aaya hai\n",
      "Kya ghanta lekar jaayega\n",
      "Kya tu ghanta lekar jaayega\n",
      "Apna time aayega\n",
      "Apna time aayega\n"
     ]
    }
   ],
   "source": [
    "print(text)"
   ]
  },
  {
   "cell_type": "code",
   "execution_count": 9,
   "metadata": {},
   "outputs": [],
   "source": [
    "def generateText(starting_sent,T,k=4,max_len=1995):\n",
    "    sentence = starting_sent\n",
    "    \n",
    "    for i in range(max_len):\n",
    "        \n",
    "        word=sentence[-k:]\n",
    "        \n",
    "        next_char=\" \"\n",
    "        if word in T:\n",
    "            chars=list(T[word].keys())\n",
    "            prob=list(T[word].values())\n",
    "#             np.random.seed(11)\n",
    "            next_char=np.random.choice(chars,p=prob)\n",
    "        \n",
    "        sentence+=next_char\n",
    "    return sentence"
   ]
  },
  {
   "cell_type": "code",
   "execution_count": 27,
   "metadata": {},
   "outputs": [
    {
     "name": "stdout",
     "output_type": "stream",
     "text": [
      "apna Time aayega\n",
      "Meri bediyan parwaaz dekh par aayega\n",
      "Aisa koyi hai\n",
      "Kyon\n",
      "Kyon ki mehnat ki, ibaadat ki\n",
      "Aur jurrat ki\n",
      "Adalat yahaan marzi ki\n",
      "Jeetne ki\n",
      "Jeetne ki\n",
      "Jeetne ki ab jeene se jeenenge\n",
      "Sab kuchh mil payega\n",
      "Apna Time aayega\n",
      "Apna time aayega x (2)\n",
      " \n",
      "Tu nanga hi to aayega\n",
      "Kya ghanta lekar jaayega\n",
      "Apna time aayega apna time aayega\n",
      "Aisa shabdon ki ab talaash mein\n",
      " \n",
      "Kyon\n",
      "Kyon ki hai\n",
      " \n",
      "Iss hardâ€™ch nai hai\n",
      "Zaroorat ki\n",
      "Adalat yahaanat ki ab jeene de\n",
      "Ab khauf nahi hai, aafat ki\n",
      "Aasman bhi satayega apna time aaya hai\n",
      " \n",
      "Tu udd ja apna time aaya khwaab hausle se jeene mein\n",
      "Parwane ki\n",
      "Aasman bhi ladka sehmat mein\n",
      " \n",
      "Kissi ka hath nai harkat ki ab aadat ki\n",
      "Jeetne ki\n",
      "Adalat yahaan marzi ki\n",
      "Adalat yahaana lala\n",
      "Mere jaisa shabdon ki ab laalach nai harkat ki\n",
      "Jeetne ki mehnat kismat mein\n",
      " \n",
      "Kyon ka jwala\n",
      "Meri bediyan pighlayega\n",
      "Apna toone boya hai\n",
      "Zaroorat ne hi to aayega\n",
      " \n",
      "Ab kaise tu ghanta lekar jaayega apni rehmat mein nahi\n",
      "Utni taakat ki, aafat ki\n",
      "Aur jurrat ki\n",
      "Himaakat ki\n",
      "Himaakat ki hai\n",
      "Kyon ki hai\n",
      "Kya ghanta lekar jaayega\n",
      "Apna Time aayega\n",
      "Apna time Aayega\n",
      "Apna time aayega\n",
      "Jitni raakh se\n",
      "Matlab bana lala\n",
      "Meri bediyan par\n",
      "Yahaan marzi ki\n",
      "Aasman bhi satayega\n",
      "Apna time aaya khwaab\n",
      "Ab khauf nahin hai\n",
      " \n",
      "Tu udd ja apna Time aayega\n",
      " \n",
      "Yeh shaan pighlayega\n",
      "Apna time aayega\n",
      "Uth ja ab talaash mein\n",
      "Har raakh se\n",
      "Matlab bana ab aadat ki ab aadat kismat mein\n",
      "Parwaaz dekh par aayega\n",
      " \n",
      "Tu nanga hi to aaya khwaab\n",
      "Ab hai\n",
      "Kya ghanta lekar jaayega\n",
      " \n",
      "Ab kaise tu ghanta lekar jaayega\n",
      "Apna time aayega\n",
      "Kya ghanta lekar jaayega\n",
      "Aisa mera khud ki mehnat se main\n",
      "Jitna time aayega\n",
      "Uth ja apni rehmat ne hi to aayega\n",
      "Mere jaisa koyi hai\n",
      "Phir bhi sar par\n",
      "Yahaanat ki\n",
      "Aur jurrat ki apna time Aayega\n",
      "Uth ja ab aadat ki\n",
      "Aasman bhi ladka sehmat mein\n",
      "Har raakh se\n",
      "Matlab bana ab jeene se\n",
      "Tu nanga hi to aayega\n",
      " \n",
      "Tu udd ja ab talaash mein\n",
      "Parwane ki\n",
      "Aur jurrat ki\n",
      "Aasman bhi satayega\n",
      "Apna time aaya khud ki ab talaash mein nahi hardâ€™ch nahi hai\n",
      "Jo darr ko cheerenge\n",
      "Sab kuchh mila paseene mein\n",
      " \n",
      "Kyon?\n",
      " \n",
      "Tu nanga hi\n"
     ]
    }
   ],
   "source": [
    "s=generateText(\"apna \",T)\n",
    "print(s)"
   ]
  },
  {
   "cell_type": "code",
   "execution_count": 11,
   "metadata": {},
   "outputs": [],
   "source": [
    "with open('ans.txt','w') as f:\n",
    "    f.write(s)"
   ]
  },
  {
   "cell_type": "code",
   "execution_count": 32,
   "metadata": {},
   "outputs": [
    {
     "data": {
      "text/plain": [
       "2000"
      ]
     },
     "execution_count": 32,
     "metadata": {},
     "output_type": "execute_result"
    }
   ],
   "source": [
    "len(s)"
   ]
  },
  {
   "cell_type": "code",
   "execution_count": 78,
   "metadata": {},
   "outputs": [],
   "source": [
    "text+=text[:645]"
   ]
  },
  {
   "cell_type": "code",
   "execution_count": 79,
   "metadata": {},
   "outputs": [
    {
     "data": {
      "text/plain": [
       "2000"
      ]
     },
     "execution_count": 79,
     "metadata": {},
     "output_type": "execute_result"
    }
   ],
   "source": [
    "len(text)"
   ]
  }
 ],
 "metadata": {
  "kernelspec": {
   "display_name": "Python 3",
   "language": "python",
   "name": "python3"
  },
  "language_info": {
   "codemirror_mode": {
    "name": "ipython",
    "version": 3
   },
   "file_extension": ".py",
   "mimetype": "text/x-python",
   "name": "python",
   "nbconvert_exporter": "python",
   "pygments_lexer": "ipython3",
   "version": "3.7.3"
  }
 },
 "nbformat": 4,
 "nbformat_minor": 2
}
