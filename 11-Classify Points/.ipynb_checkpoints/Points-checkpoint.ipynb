{
 "cells": [
  {
   "cell_type": "markdown",
   "metadata": {},
   "source": [
    "# Classify Points\n",
    "you are provided with two features and you have to classify it in class 1 or 0.\n",
    "<html>\n",
    "    <div style=\"width:100%\">\n",
    "        <div style=\"width:150px;height:150px;margin:auto\">\n",
    "            <img src=\"https://image.flaticon.com/icons/svg/1256/1256638.svg\" >\n",
    "        </div>\n",
    "    </div>\n",
    "</html>\n",
    "\n",
    "\n",
    "Data Description\n",
    "Two files are provided to you train and test.\n",
    "\n",
    "`Train`: It consist of two files Xtrain containing the features and Ytrain containing labels associated with them.\n",
    "\n",
    "`Test`: It also consists of two files Xtest which contains the features on which your model will be tested and sample output which defines the format in which your output needs to be submitted.\n",
    "\n",
    "\n",
    "### Please draw the graph for the given data before training the model.\n",
    "Before submitting please check the list below:\n",
    "1.The column names or headers of submission file must match with that given in sample submission file.\n",
    "2.Datatype of the columns of submission file must match with that of the given sample_submission file.\n",
    "3.The number of rows must be equal to given test cases and number of columns must be equal to the columns given in the sample submission file."
   ]
  },
  {
   "cell_type": "code",
   "execution_count": 1,
   "metadata": {},
   "outputs": [],
   "source": [
    "import numpy as np\n",
    "import pandas as pd"
   ]
  },
  {
   "cell_type": "code",
   "execution_count": 2,
   "metadata": {},
   "outputs": [],
   "source": [
    "x_test=pd.read_csv(\"Logistic_X_Test.csv\").values\n",
    "x_train=pd.read_csv(\"Logistic_X_Train.csv\").values\n",
    "y_train=pd.read_csv(\"Logistic_Y_Train.csv\").values"
   ]
  },
  {
   "cell_type": "code",
   "execution_count": 4,
   "metadata": {},
   "outputs": [
    {
     "data": {
      "text/plain": [
       "array([[-0.79982686, -0.00383313],\n",
       "       [-0.75778472,  1.03137038],\n",
       "       [ 1.03680832, -0.35700409],\n",
       "       ...,\n",
       "       [ 0.91472363,  0.51784857],\n",
       "       [-0.81326194,  0.65111488],\n",
       "       [-0.54779714,  0.15991242]])"
      ]
     },
     "execution_count": 4,
     "metadata": {},
     "output_type": "execute_result"
    }
   ],
   "source": [
    "x_test"
   ]
  },
  {
   "cell_type": "code",
   "execution_count": 5,
   "metadata": {},
   "outputs": [
    {
     "data": {
      "text/plain": [
       "(2250, 2)"
      ]
     },
     "execution_count": 5,
     "metadata": {},
     "output_type": "execute_result"
    }
   ],
   "source": [
    "x_train.shape"
   ]
  },
  {
   "cell_type": "code",
   "execution_count": 6,
   "metadata": {},
   "outputs": [
    {
     "name": "stderr",
     "output_type": "stream",
     "text": [
      "Using TensorFlow backend.\n"
     ]
    }
   ],
   "source": [
    "from keras.models import Sequential\n",
    "from keras.layers import Dense"
   ]
  },
  {
   "cell_type": "code",
   "execution_count": 7,
   "metadata": {},
   "outputs": [],
   "source": [
    "model=Sequential()\n",
    "model.add(Dense(64,activation=\"relu\",input_shape=(2,)))\n",
    "model.add(Dense(128,activation=\"relu\",input_shape=(2,)))\n",
    "model.add(Dense(1,activation=\"sigmoid\"))"
   ]
  },
  {
   "cell_type": "code",
   "execution_count": 8,
   "metadata": {},
   "outputs": [
    {
     "name": "stdout",
     "output_type": "stream",
     "text": [
      "Model: \"sequential_1\"\n",
      "_________________________________________________________________\n",
      "Layer (type)                 Output Shape              Param #   \n",
      "=================================================================\n",
      "dense_1 (Dense)              (None, 64)                192       \n",
      "_________________________________________________________________\n",
      "dense_2 (Dense)              (None, 128)               8320      \n",
      "_________________________________________________________________\n",
      "dense_3 (Dense)              (None, 1)                 129       \n",
      "=================================================================\n",
      "Total params: 8,641\n",
      "Trainable params: 8,641\n",
      "Non-trainable params: 0\n",
      "_________________________________________________________________\n"
     ]
    }
   ],
   "source": [
    "model.summary()"
   ]
  },
  {
   "cell_type": "code",
   "execution_count": 9,
   "metadata": {},
   "outputs": [],
   "source": [
    "model.compile(optimizer=\"adam\",loss=\"binary_crossentropy\",metrics=[\"accuracy\"])"
   ]
  },
  {
   "cell_type": "code",
   "execution_count": 10,
   "metadata": {},
   "outputs": [
    {
     "name": "stdout",
     "output_type": "stream",
     "text": [
      "Train on 1800 samples, validate on 450 samples\n",
      "Epoch 1/65\n",
      "1800/1800 [==============================] - 1s 408us/step - loss: 0.5001 - accuracy: 0.7928 - val_loss: 0.3167 - val_accuracy: 0.8800\n",
      "Epoch 2/65\n",
      "1800/1800 [==============================] - 0s 93us/step - loss: 0.3002 - accuracy: 0.8672 - val_loss: 0.2550 - val_accuracy: 0.8911\n",
      "Epoch 3/65\n",
      "1800/1800 [==============================] - 0s 81us/step - loss: 0.2740 - accuracy: 0.8761 - val_loss: 0.2334 - val_accuracy: 0.9022\n",
      "Epoch 4/65\n",
      "1800/1800 [==============================] - 0s 68us/step - loss: 0.2536 - accuracy: 0.8878 - val_loss: 0.2177 - val_accuracy: 0.9111\n",
      "Epoch 5/65\n",
      "1800/1800 [==============================] - 0s 65us/step - loss: 0.2326 - accuracy: 0.9006 - val_loss: 0.1838 - val_accuracy: 0.9244\n",
      "Epoch 6/65\n",
      "1800/1800 [==============================] - 0s 71us/step - loss: 0.1930 - accuracy: 0.9233 - val_loss: 0.1636 - val_accuracy: 0.9400\n",
      "Epoch 7/65\n",
      "1800/1800 [==============================] - 0s 69us/step - loss: 0.1614 - accuracy: 0.9361 - val_loss: 0.1331 - val_accuracy: 0.9511\n",
      "Epoch 8/65\n",
      "1800/1800 [==============================] - 0s 70us/step - loss: 0.1391 - accuracy: 0.9506 - val_loss: 0.1152 - val_accuracy: 0.9578\n",
      "Epoch 9/65\n",
      "1800/1800 [==============================] - 0s 74us/step - loss: 0.1241 - accuracy: 0.9550 - val_loss: 0.1046 - val_accuracy: 0.9667\n",
      "Epoch 10/65\n",
      "1800/1800 [==============================] - 0s 69us/step - loss: 0.1152 - accuracy: 0.9600 - val_loss: 0.0979 - val_accuracy: 0.9667\n",
      "Epoch 11/65\n",
      "1800/1800 [==============================] - 0s 96us/step - loss: 0.1086 - accuracy: 0.9589 - val_loss: 0.0966 - val_accuracy: 0.9689\n",
      "Epoch 12/65\n",
      "1800/1800 [==============================] - 0s 72us/step - loss: 0.1077 - accuracy: 0.9611 - val_loss: 0.0983 - val_accuracy: 0.9667\n",
      "Epoch 13/65\n",
      "1800/1800 [==============================] - 0s 72us/step - loss: 0.1037 - accuracy: 0.9639 - val_loss: 0.0931 - val_accuracy: 0.9644\n",
      "Epoch 14/65\n",
      "1800/1800 [==============================] - 0s 73us/step - loss: 0.0999 - accuracy: 0.9639 - val_loss: 0.0930 - val_accuracy: 0.9689\n",
      "Epoch 15/65\n",
      "1800/1800 [==============================] - 0s 74us/step - loss: 0.1055 - accuracy: 0.9606 - val_loss: 0.0854 - val_accuracy: 0.9689\n",
      "Epoch 16/65\n",
      "1800/1800 [==============================] - 0s 66us/step - loss: 0.0980 - accuracy: 0.9633 - val_loss: 0.0830 - val_accuracy: 0.9689\n",
      "Epoch 17/65\n",
      "1800/1800 [==============================] - 0s 81us/step - loss: 0.1000 - accuracy: 0.9611 - val_loss: 0.0839 - val_accuracy: 0.9711\n",
      "Epoch 18/65\n",
      "1800/1800 [==============================] - 0s 90us/step - loss: 0.0973 - accuracy: 0.9639 - val_loss: 0.0855 - val_accuracy: 0.9667\n",
      "Epoch 19/65\n",
      "1800/1800 [==============================] - 0s 72us/step - loss: 0.0971 - accuracy: 0.9644 - val_loss: 0.0839 - val_accuracy: 0.9711\n",
      "Epoch 20/65\n",
      "1800/1800 [==============================] - 0s 73us/step - loss: 0.0959 - accuracy: 0.9656 - val_loss: 0.0865 - val_accuracy: 0.9711\n",
      "Epoch 21/65\n",
      "1800/1800 [==============================] - 0s 73us/step - loss: 0.0941 - accuracy: 0.9694 - val_loss: 0.0886 - val_accuracy: 0.9711\n",
      "Epoch 22/65\n",
      "1800/1800 [==============================] - 0s 68us/step - loss: 0.0943 - accuracy: 0.9650 - val_loss: 0.0836 - val_accuracy: 0.9711\n",
      "Epoch 23/65\n",
      "1800/1800 [==============================] - 0s 71us/step - loss: 0.0942 - accuracy: 0.9661 - val_loss: 0.0824 - val_accuracy: 0.9689\n",
      "Epoch 24/65\n",
      "1800/1800 [==============================] - 0s 75us/step - loss: 0.0928 - accuracy: 0.9672 - val_loss: 0.0808 - val_accuracy: 0.9711\n",
      "Epoch 25/65\n",
      "1800/1800 [==============================] - 0s 82us/step - loss: 0.0946 - accuracy: 0.9644 - val_loss: 0.0876 - val_accuracy: 0.9733\n",
      "Epoch 26/65\n",
      "1800/1800 [==============================] - 0s 107us/step - loss: 0.0985 - accuracy: 0.9650 - val_loss: 0.0786 - val_accuracy: 0.9711\n",
      "Epoch 27/65\n",
      "1800/1800 [==============================] - 0s 103us/step - loss: 0.0962 - accuracy: 0.9650 - val_loss: 0.0803 - val_accuracy: 0.9689\n",
      "Epoch 28/65\n",
      "1800/1800 [==============================] - 0s 74us/step - loss: 0.0930 - accuracy: 0.9633 - val_loss: 0.0788 - val_accuracy: 0.9689\n",
      "Epoch 29/65\n",
      "1800/1800 [==============================] - 0s 68us/step - loss: 0.0932 - accuracy: 0.9633 - val_loss: 0.0847 - val_accuracy: 0.9689\n",
      "Epoch 30/65\n",
      "1800/1800 [==============================] - 0s 73us/step - loss: 0.0952 - accuracy: 0.9650 - val_loss: 0.0831 - val_accuracy: 0.9689\n",
      "Epoch 31/65\n",
      "1800/1800 [==============================] - 0s 72us/step - loss: 0.0932 - accuracy: 0.9672 - val_loss: 0.0878 - val_accuracy: 0.9667\n",
      "Epoch 32/65\n",
      "1800/1800 [==============================] - 0s 69us/step - loss: 0.0940 - accuracy: 0.9656 - val_loss: 0.0835 - val_accuracy: 0.9689\n",
      "Epoch 33/65\n",
      "1800/1800 [==============================] - 0s 67us/step - loss: 0.0945 - accuracy: 0.9678 - val_loss: 0.0934 - val_accuracy: 0.9600\n",
      "Epoch 34/65\n",
      "1800/1800 [==============================] - 0s 95us/step - loss: 0.0933 - accuracy: 0.9656 - val_loss: 0.0835 - val_accuracy: 0.9689\n",
      "Epoch 35/65\n",
      "1800/1800 [==============================] - 0s 66us/step - loss: 0.0906 - accuracy: 0.9678 - val_loss: 0.0886 - val_accuracy: 0.9711\n",
      "Epoch 36/65\n",
      "1800/1800 [==============================] - 0s 61us/step - loss: 0.0919 - accuracy: 0.9656 - val_loss: 0.0795 - val_accuracy: 0.9711\n",
      "Epoch 37/65\n",
      "1800/1800 [==============================] - 0s 65us/step - loss: 0.0947 - accuracy: 0.9639 - val_loss: 0.0807 - val_accuracy: 0.9711\n",
      "Epoch 38/65\n",
      "1800/1800 [==============================] - 0s 63us/step - loss: 0.0931 - accuracy: 0.9661 - val_loss: 0.0805 - val_accuracy: 0.9689\n",
      "Epoch 39/65\n",
      "1800/1800 [==============================] - 0s 63us/step - loss: 0.0918 - accuracy: 0.9667 - val_loss: 0.0824 - val_accuracy: 0.9689\n",
      "Epoch 40/65\n",
      "1800/1800 [==============================] - 0s 63us/step - loss: 0.0947 - accuracy: 0.9661 - val_loss: 0.0804 - val_accuracy: 0.9689\n",
      "Epoch 41/65\n",
      "1800/1800 [==============================] - 0s 67us/step - loss: 0.0918 - accuracy: 0.9689 - val_loss: 0.0842 - val_accuracy: 0.9689\n",
      "Epoch 42/65\n",
      "1800/1800 [==============================] - 0s 65us/step - loss: 0.0916 - accuracy: 0.9656 - val_loss: 0.0843 - val_accuracy: 0.9711\n",
      "Epoch 43/65\n",
      "1800/1800 [==============================] - 0s 108us/step - loss: 0.0945 - accuracy: 0.9639 - val_loss: 0.0833 - val_accuracy: 0.9711\n",
      "Epoch 44/65\n",
      "1800/1800 [==============================] - 0s 68us/step - loss: 0.0934 - accuracy: 0.9650 - val_loss: 0.0891 - val_accuracy: 0.9644\n",
      "Epoch 45/65\n",
      "1800/1800 [==============================] - 0s 72us/step - loss: 0.0907 - accuracy: 0.9683 - val_loss: 0.0856 - val_accuracy: 0.9689\n",
      "Epoch 46/65\n",
      "1800/1800 [==============================] - 0s 66us/step - loss: 0.0921 - accuracy: 0.9650 - val_loss: 0.0850 - val_accuracy: 0.9667\n",
      "Epoch 47/65\n",
      "1800/1800 [==============================] - 0s 77us/step - loss: 0.0954 - accuracy: 0.9683 - val_loss: 0.0892 - val_accuracy: 0.9667\n",
      "Epoch 48/65\n",
      "1800/1800 [==============================] - 0s 67us/step - loss: 0.0908 - accuracy: 0.9656 - val_loss: 0.0851 - val_accuracy: 0.9689\n",
      "Epoch 49/65\n",
      "1800/1800 [==============================] - 0s 72us/step - loss: 0.0911 - accuracy: 0.9683 - val_loss: 0.0817 - val_accuracy: 0.9689\n",
      "Epoch 50/65\n",
      "1800/1800 [==============================] - 0s 65us/step - loss: 0.0892 - accuracy: 0.9678 - val_loss: 0.0829 - val_accuracy: 0.9711\n",
      "Epoch 51/65\n",
      "1800/1800 [==============================] - 0s 83us/step - loss: 0.0913 - accuracy: 0.9650 - val_loss: 0.0837 - val_accuracy: 0.9711\n",
      "Epoch 52/65\n",
      "1800/1800 [==============================] - 0s 73us/step - loss: 0.0915 - accuracy: 0.9678 - val_loss: 0.0856 - val_accuracy: 0.9689\n",
      "Epoch 53/65\n",
      "1800/1800 [==============================] - 0s 70us/step - loss: 0.0902 - accuracy: 0.9650 - val_loss: 0.0917 - val_accuracy: 0.9667\n",
      "Epoch 54/65\n",
      "1800/1800 [==============================] - 0s 66us/step - loss: 0.0938 - accuracy: 0.9661 - val_loss: 0.0897 - val_accuracy: 0.9644\n",
      "Epoch 55/65\n",
      "1800/1800 [==============================] - 0s 64us/step - loss: 0.0921 - accuracy: 0.9644 - val_loss: 0.0794 - val_accuracy: 0.9689\n",
      "Epoch 56/65\n",
      "1800/1800 [==============================] - 0s 64us/step - loss: 0.0933 - accuracy: 0.9633 - val_loss: 0.0827 - val_accuracy: 0.9711\n"
     ]
    },
    {
     "name": "stdout",
     "output_type": "stream",
     "text": [
      "Epoch 57/65\n",
      "1800/1800 [==============================] - 0s 76us/step - loss: 0.0901 - accuracy: 0.9683 - val_loss: 0.0836 - val_accuracy: 0.9711\n",
      "Epoch 58/65\n",
      "1800/1800 [==============================] - 0s 68us/step - loss: 0.0919 - accuracy: 0.9633 - val_loss: 0.0821 - val_accuracy: 0.9689\n",
      "Epoch 59/65\n",
      "1800/1800 [==============================] - 0s 74us/step - loss: 0.0923 - accuracy: 0.9678 - val_loss: 0.0796 - val_accuracy: 0.9711\n",
      "Epoch 60/65\n",
      "1800/1800 [==============================] - 0s 82us/step - loss: 0.0911 - accuracy: 0.9683 - val_loss: 0.0862 - val_accuracy: 0.9711\n",
      "Epoch 61/65\n",
      "1800/1800 [==============================] - 0s 66us/step - loss: 0.0893 - accuracy: 0.9667 - val_loss: 0.0792 - val_accuracy: 0.9733\n",
      "Epoch 62/65\n",
      "1800/1800 [==============================] - 0s 70us/step - loss: 0.0925 - accuracy: 0.9678 - val_loss: 0.0828 - val_accuracy: 0.9711\n",
      "Epoch 63/65\n",
      "1800/1800 [==============================] - 0s 76us/step - loss: 0.0927 - accuracy: 0.9644 - val_loss: 0.0847 - val_accuracy: 0.9644\n",
      "Epoch 64/65\n",
      "1800/1800 [==============================] - 0s 74us/step - loss: 0.0922 - accuracy: 0.9667 - val_loss: 0.0824 - val_accuracy: 0.9711\n",
      "Epoch 65/65\n",
      "1800/1800 [==============================] - 0s 73us/step - loss: 0.0920 - accuracy: 0.9678 - val_loss: 0.0784 - val_accuracy: 0.9711\n"
     ]
    }
   ],
   "source": [
    "hist=model.fit(x_train,y_train,batch_size=32,epochs=65,validation_split=0.2)"
   ]
  },
  {
   "cell_type": "code",
   "execution_count": 11,
   "metadata": {},
   "outputs": [],
   "source": [
    "import matplotlib.pyplot as plt"
   ]
  },
  {
   "cell_type": "code",
   "execution_count": 12,
   "metadata": {},
   "outputs": [
    {
     "data": {
      "text/plain": [
       "[<matplotlib.lines.Line2D at 0x1cc3baaac18>]"
      ]
     },
     "execution_count": 12,
     "metadata": {},
     "output_type": "execute_result"
    },
    {
     "data": {
      "image/png": "[encoded data removed]",
      "text/plain": [
       "<Figure size 432x288 with 1 Axes>"
      ]
     },
     "metadata": {
      "needs_background": "light"
     },
     "output_type": "display_data"
    }
   ],
   "source": [
    "plt.plot(hist.history[\"accuracy\"][10:])\n",
    "plt.plot(hist.history[\"val_accuracy\"][10:])"
   ]
  },
  {
   "cell_type": "code",
   "execution_count": 13,
   "metadata": {},
   "outputs": [],
   "source": [
    "y_pred=model.predict_classes(x_test)"
   ]
  },
  {
   "cell_type": "code",
   "execution_count": 14,
   "metadata": {},
   "outputs": [],
   "source": [
    "pd.DataFrame(y_pred,columns=[\"label\"]).to_csv(\"y_pred.csv\",index=False) "
   ]
  }
 ],
 "metadata": {
  "kernelspec": {
   "display_name": "Python 3",
   "language": "python",
   "name": "python3"
  },
  "language_info": {
   "codemirror_mode": {
    "name": "ipython",
    "version": 3
   },
   "file_extension": ".py",
   "mimetype": "text/x-python",
   "name": "python",
   "nbconvert_exporter": "python",
   "pygments_lexer": "ipython3",
   "version": "3.7.3"
  }
 },
 "nbformat": 4,
 "nbformat_minor": 2
}
