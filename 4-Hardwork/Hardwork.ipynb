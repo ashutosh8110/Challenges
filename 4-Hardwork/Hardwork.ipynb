{
 "cells": [
  {
   "cell_type": "markdown",
   "metadata": {},
   "source": [
    "# Hardwork Pays Off\n",
    "##### Predicting Exam Scores using Machine Learning\n",
    "Since you are a student of Coding Blocks, you are expected to work hard and get better results than others. To track your time and expected performance in the Machine Learning Challenge, Prateek bhayia has asked to you install walkatime on your device which is an efficient time tracking tool to track your daily coding activity. It measures how much time you have spend on coding daily.\n",
    "<html>\n",
    "    <div style=\"width:100%\">\n",
    "        <div style=\"width:150px;height:150px;margin:auto\">\n",
    "            <img src=\"https://image.flaticon.com/icons/svg/1459/1459077.svg\" >\n",
    "        </div>\n",
    "    </div>\n",
    "</html>\n",
    "\n",
    "Challenge\n",
    "In this challenge, Prateek bhayia gives you walkatime data of his past students and how they performed in the evaluation exam. Your task is to predict the score you will get given the amount of time you spend on coding daily.\n",
    "\n",
    "Input You are given one feature corresponding to time noted by walkatime.\n",
    "Output A scalar denoting the level of perfomance student achived by devoting the given time.\n",
    "Download the training data and upload your predictions for the testcases given below."
   ]
  },
  {
   "cell_type": "code",
   "execution_count": 1,
   "metadata": {},
   "outputs": [],
   "source": [
    "import numpy as np\n",
    "import pandas as pd\n",
    "import matplotlib.pyplot as plt"
   ]
  },
  {
   "cell_type": "code",
   "execution_count": 2,
   "metadata": {},
   "outputs": [],
   "source": [
    "X=pd.read_csv(\"Linear_X_Train.csv\").values\n",
    "Y=pd.read_csv(\"Linear_Y_Train.csv\").values"
   ]
  },
  {
   "cell_type": "code",
   "execution_count": 3,
   "metadata": {},
   "outputs": [
    {
     "data": {
      "text/plain": [
       "<matplotlib.collections.PathCollection at 0x2671c2982e8>"
      ]
     },
     "execution_count": 3,
     "metadata": {},
     "output_type": "execute_result"
    },
    {
     "data": {
      "image/png": "[encoded data removed]",
      "text/plain": [
       "<Figure size 432x288 with 1 Axes>"
      ]
     },
     "metadata": {
      "needs_background": "light"
     },
     "output_type": "display_data"
    }
   ],
   "source": [
    "plt.scatter(X,Y)"
   ]
  },
  {
   "cell_type": "code",
   "execution_count": 4,
   "metadata": {},
   "outputs": [],
   "source": [
    "mu=X.mean()\n",
    "sigma=X.std()\n",
    "X=(X-mu)/sigma"
   ]
  },
  {
   "cell_type": "code",
   "execution_count": 5,
   "metadata": {},
   "outputs": [],
   "source": [
    "def hypothesis(theta,x):\n",
    "    return theta[0]+theta[1]*x\n",
    "\n",
    "def error(theta,X,Y):\n",
    "    err=0\n",
    "    m=X.shape[0]\n",
    "    \n",
    "    for i in range(m):\n",
    "        err+=((hypothesis(theta,X[i])-Y[i])**2)\n",
    "    return err/m\n",
    "\n",
    "def gradient(theta,X,Y):\n",
    "    m=X.shape[0]\n",
    "    grad=np.zeros((2,))\n",
    "    \n",
    "    for i in range(m):\n",
    "        hx=hypothesis(theta,X[i])\n",
    "        grad[0]+=(hx-Y[i])\n",
    "        grad[1]+=(hx-Y[i])*X[i]\n",
    "        \n",
    "    return grad/m\n",
    "\n",
    "def gradient_descent(X,Y,lr=0.1,max_itr=100):\n",
    "    m=X.shape[0]\n",
    "    theta=np.zeros((2,))\n",
    "    error_list=[]\n",
    "    theta_list=[]\n",
    "    \n",
    "    for i in range(max_itr):\n",
    "        err=error(theta,X,Y)\n",
    "        error_list.append(err)\n",
    "        theta_list.append((theta[0],theta[1]))\n",
    "        theta+=-lr*gradient(theta,X,Y)\n",
    "        \n",
    "    return theta,theta_list,error_list\n",
    "\n",
    "theta,theta_list,error_list=gradient_descent(X,Y)\n"
   ]
  },
  {
   "cell_type": "code",
   "execution_count": 6,
   "metadata": {},
   "outputs": [],
   "source": [
    "Y_pred=hypothesis(theta,X)"
   ]
  },
  {
   "cell_type": "code",
   "execution_count": 7,
   "metadata": {},
   "outputs": [
    {
     "data": {
      "image/png": "[encoded data removed]",
      "text/plain": [
       "<Figure size 432x288 with 1 Axes>"
      ]
     },
     "metadata": {
      "needs_background": "light"
     },
     "output_type": "display_data"
    }
   ],
   "source": [
    "plt.scatter(X,Y)\n",
    "plt.plot(X,Y_pred,color='red')\n",
    "plt.show()"
   ]
  },
  {
   "cell_type": "code",
   "execution_count": 8,
   "metadata": {},
   "outputs": [],
   "source": [
    "X_test=pd.read_csv(\"Linear_X_test.csv\").values"
   ]
  },
  {
   "cell_type": "code",
   "execution_count": 9,
   "metadata": {},
   "outputs": [],
   "source": [
    "X_test=(X_test-mu)/sigma"
   ]
  },
  {
   "cell_type": "code",
   "execution_count": 10,
   "metadata": {},
   "outputs": [],
   "source": [
    "Y_pred=hypothesis(theta,X_test)"
   ]
  },
  {
   "cell_type": "code",
   "execution_count": 11,
   "metadata": {},
   "outputs": [],
   "source": [
    "df = pd.DataFrame(data=Y_pred, columns=['y'])\n",
    "df.to_csv(\"ans.csv\", index=False)"
   ]
  },
  {
   "cell_type": "code",
   "execution_count": null,
   "metadata": {},
   "outputs": [],
   "source": []
  }
 ],
 "metadata": {
  "kernelspec": {
   "display_name": "Python 3",
   "language": "python",
   "name": "python3"
  },
  "language_info": {
   "codemirror_mode": {
    "name": "ipython",
    "version": 3
   },
   "file_extension": ".py",
   "mimetype": "text/x-python",
   "name": "python",
   "nbconvert_exporter": "python",
   "pygments_lexer": "ipython3",
   "version": "3.7.3"
  }
 },
 "nbformat": 4,
 "nbformat_minor": 2
}
