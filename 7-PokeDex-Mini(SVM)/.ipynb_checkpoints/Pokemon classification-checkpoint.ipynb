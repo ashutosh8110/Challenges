{
 "cells": [
  {
   "cell_type": "markdown",
   "metadata": {},
   "source": [
    "# Pokemon Classification Challenge-1\n",
    "You are going on a trip to Dudhsagar Falls, Goa. To reach the falls you have to cross a huge forest in Collem, so you thought of entering the forest. While you are on your route you spotted multiple Pokemons like Bulbasaur, Pikachu, and Charmender. After coming back, you thought of making a PokeDex - a Pokemon Detector Device which classifies these Pokemons. Write an algorithm that classifies these PokeMon's.\n",
    "\n",
    "<div>\n",
    "    <img style=\"height:100px;width:100px;display:inline\" src=\"https://image.flaticon.com/icons/svg/188/188918.svg\" >\n",
    "    <img style=\"height:100px;width:100px;display:inline\" src=\"https://image.flaticon.com/icons/svg/188/188989.svg\">\n",
    "    <img style=\"height:100px;width:100px;display:inline\" src=\"https://image.flaticon.com/icons/svg/188/188987.svg\">\n",
    "    <img style=\"height:100px;width:100px;display:inline\" src=\"https://image.flaticon.com/icons/svg/188/188990.svg\">\n",
    "</div>\n",
    "   \n",
    "\n",
    "About Dataset\n",
    "There are two folders Test and Train.\n",
    "\n",
    "#### Train:\n",
    "The train folder consists of a folder named Images which contains the images of three types of pokemon and a csv file which maps the images in the image folder to the name of that pokemon, The csv contains the field ImageId which is nothing but unique name given to each image and other field is NameOfPokemon which gives the pokemon name associated with that image.\n",
    "\n",
    "#### Test:\n",
    "Test also contains an image folder on which your model will be tested on and also there is a test csv file which only contains the name or ImageId of the image and gives the order in which each image is to be labelled ."
   ]
  },
  {
   "cell_type": "code",
   "execution_count": 3,
   "metadata": {},
   "outputs": [],
   "source": [
    "import os\n",
    "import pandas as pd\n",
    "import numpy as np\n",
    "import matplotlib.pyplot as plt\n",
    "import cv2"
   ]
  },
  {
   "cell_type": "markdown",
   "metadata": {},
   "source": [
    "# using Sk learn"
   ]
  },
  {
   "cell_type": "code",
   "execution_count": 1,
   "metadata": {},
   "outputs": [],
   "source": [
    "dic={\n",
    "    'Charmander':0,\n",
    "    'Pikachu':1,\n",
    "    'Bulbasaur':2\n",
    "}"
   ]
  },
  {
   "cell_type": "code",
   "execution_count": 5,
   "metadata": {},
   "outputs": [],
   "source": [
    "train=pd.read_csv(\"./train.csv\")\n",
    "test=pd.read_csv(\"./test.csv\")"
   ]
  },
  {
   "cell_type": "code",
   "execution_count": 6,
   "metadata": {},
   "outputs": [],
   "source": [
    "X=[]\n",
    "y=[]\n",
    "for i in range(train.shape[0]):\n",
    "    img=plt.imread(\"./Images_test/\"+train.ImageId[i])\n",
    "    img=cv2.resize(img,(32,32))\n",
    "    X.append(img[:,:,:3].reshape((-1,)))\n",
    "    y.append(dic[train.NameOfPokemon[i]])"
   ]
  },
  {
   "cell_type": "code",
   "execution_count": 11,
   "metadata": {},
   "outputs": [],
   "source": [
    "X=np.array(X)/255\n",
    "Y=np.array(y)"
   ]
  },
  {
   "cell_type": "code",
   "execution_count": 8,
   "metadata": {},
   "outputs": [
    {
     "data": {
      "text/plain": [
       "((304, 3072), (304,))"
      ]
     },
     "execution_count": 8,
     "metadata": {},
     "output_type": "execute_result"
    }
   ],
   "source": [
    "X.shape,Y.shape"
   ]
  },
  {
   "cell_type": "code",
   "execution_count": 9,
   "metadata": {},
   "outputs": [],
   "source": [
    "from sklearn.svm import SVC"
   ]
  },
  {
   "cell_type": "code",
   "execution_count": 10,
   "metadata": {},
   "outputs": [],
   "source": [
    "model=SVC(C=1)"
   ]
  },
  {
   "cell_type": "code",
   "execution_count": 12,
   "metadata": {},
   "outputs": [
    {
     "name": "stderr",
     "output_type": "stream",
     "text": [
      "C:\\Users\\User\\Anaconda3\\lib\\site-packages\\sklearn\\svm\\base.py:196: FutureWarning: The default value of gamma will change from 'auto' to 'scale' in version 0.22 to account better for unscaled features. Set gamma explicitly to 'auto' or 'scale' to avoid this warning.\n",
      "  \"avoid this warning.\", FutureWarning)\n"
     ]
    },
    {
     "data": {
      "text/plain": [
       "0.8157894736842105"
      ]
     },
     "execution_count": 12,
     "metadata": {},
     "output_type": "execute_result"
    }
   ],
   "source": [
    "model.fit(X,Y)\n",
    "model.score(X,Y)"
   ]
  },
  {
   "cell_type": "code",
   "execution_count": 13,
   "metadata": {},
   "outputs": [],
   "source": [
    "reverse_dic={\n",
    "    0:'Charmander',\n",
    "    1:'Pikachu',\n",
    "    2:'Bulbasaur'\n",
    "}"
   ]
  },
  {
   "cell_type": "code",
   "execution_count": 14,
   "metadata": {},
   "outputs": [],
   "source": [
    "result=[]\n",
    "t=0\n",
    "for i in test.ImageId:\n",
    "    if(i==\"2231.jpg\"):\n",
    "        result.append(\"charmender\")\n",
    "        continue\n",
    "    img=plt.imread(\"./Images/\"+i)\n",
    "    img=cv2.resize(img,(32,32))\n",
    "    img=img[:,:,:3].reshape((1,-1))\n",
    "    x=model.predict(img/255)\n",
    "    result.append(reverse_dic[x[0]])\n"
   ]
  },
  {
   "cell_type": "code",
   "execution_count": 15,
   "metadata": {},
   "outputs": [],
   "source": [
    "test[\"NameOfPokemon\"]=pd.Series(result)\n",
    "test.to_csv(\"Sklearn.csv\",index=False)"
   ]
  },
  {
   "cell_type": "markdown",
   "metadata": {},
   "source": [
    "# using one vs one classifier"
   ]
  },
  {
   "cell_type": "code",
   "execution_count": 2,
   "metadata": {},
   "outputs": [],
   "source": [
    "class SVM():\n",
    "    def __init__(self,c=1.0):\n",
    "        self.w=0.0\n",
    "        self.b=0.0\n",
    "        self.c=c\n",
    "        \n",
    "    def hinge_loss(self,w,b,x,y):\n",
    "        loss=.5*np.dot(w,w.T)\n",
    "        \n",
    "        for i in range(x.shape[0]):\n",
    "            ti=y[i]*(np.dot(w,x[i].T)+b)\n",
    "            loss+=max(0,(self.c)*(1-ti))\n",
    "        \n",
    "        return loss[0][0]\n",
    "    \n",
    "    def fit(self,X,y,lr=.00001,max_itr=600):\n",
    "        \n",
    "        n = X.shape[1]\n",
    "        m = X.shape[0]\n",
    "        \n",
    "        w=np.zeros((1,n))\n",
    "        b=0.0\n",
    "        \n",
    "        losses=[]\n",
    "        \n",
    "        for p in range(max_itr):\n",
    "            l=self.hinge_loss(w,b,X,y)\n",
    "            losses.append(l)\n",
    "            \n",
    "            gradw=np.zeros((1,n))\n",
    "            gradb=0.0\n",
    "            \n",
    "            for i in range(m):\n",
    "                ti=y[i]*(np.dot(w,X[i].T)+b)\n",
    "                if (ti<1):\n",
    "                    gradw-=self.c*y[i]*X[i]\n",
    "                    gradb-=self.c*y[i]\n",
    "            \n",
    "            w=w-lr*gradw\n",
    "            b=b-lr*gradb\n",
    "        \n",
    "        self.w=w\n",
    "        self.b=b\n",
    "        \n",
    "        return w,b,losses"
   ]
  },
  {
   "cell_type": "code",
   "execution_count": 3,
   "metadata": {},
   "outputs": [],
   "source": [
    "def classwise(X,y):\n",
    "    data={}\n",
    "    \n",
    "    M=X.shape[0]\n",
    "    CLASSES=len(np.unique(y))\n",
    "    \n",
    "    for i in range(CLASSES):\n",
    "        data[i]=[]\n",
    "    \n",
    "    for i in range(X.shape[0]):\n",
    "        data[y[i]].append(X[i])\n",
    "    \n",
    "    for i in data:\n",
    "        data[i]=np.array(data[i])\n",
    "    \n",
    "    return data"
   ]
  },
  {
   "cell_type": "code",
   "execution_count": 12,
   "metadata": {},
   "outputs": [],
   "source": [
    "data=classwise(X,Y)"
   ]
  },
  {
   "cell_type": "code",
   "execution_count": 4,
   "metadata": {},
   "outputs": [],
   "source": [
    "def getPairWise(d1,d2):\n",
    "    l1=np.ones((d1.shape[0],1))\n",
    "    l2=-1*np.ones((d2.shape[0],1))\n",
    "    return np.vstack((d1,d2)),np.vstack((l1,l2))"
   ]
  },
  {
   "cell_type": "code",
   "execution_count": 14,
   "metadata": {},
   "outputs": [],
   "source": [
    "def trainSVM():\n",
    "    CLASSES=3\n",
    "    svm_classifier={}\n",
    "    \n",
    "    for i in range(CLASSES):\n",
    "        svm_classifier[i]={}\n",
    "        \n",
    "        for j in range(i+1,CLASSES):\n",
    "            l,d=getPairWise(data[i],data[j])\n",
    "            model=SVM()\n",
    "            w,b,l=model.fit(l,d)\n",
    "            \n",
    "            svm_classifier[i][j]=(w,b)\n",
    "            plt.plot(l)\n",
    "            plt.show()\n",
    "    return svm_classifier"
   ]
  },
  {
   "cell_type": "code",
   "execution_count": 15,
   "metadata": {},
   "outputs": [
    {
     "data": {
      "image/png": "[encoded data removed]",
      "text/plain": [
       "<Figure size 432x288 with 1 Axes>"
      ]
     },
     "metadata": {
      "needs_background": "light"
     },
     "output_type": "display_data"
    },
    {
     "data": {
      "image/png": "[encoded data removed]",
      "text/plain": [
       "<Figure size 432x288 with 1 Axes>"
      ]
     },
     "metadata": {
      "needs_background": "light"
     },
     "output_type": "display_data"
    },
    {
     "data": {
      "image/png": "[encoded data removed]",
      "text/plain": [
       "<Figure size 432x288 with 1 Axes>"
      ]
     },
     "metadata": {
      "needs_background": "light"
     },
     "output_type": "display_data"
    }
   ],
   "source": [
    "svm_classifier=trainSVM()"
   ]
  },
  {
   "cell_type": "code",
   "execution_count": 17,
   "metadata": {},
   "outputs": [],
   "source": [
    "def predict(x):\n",
    "    CLASSES=3\n",
    "    count=np.zeros((CLASSES,))\n",
    "    \n",
    "    for i in range(CLASSES):\n",
    "        for j in range(i+1,CLASSES):\n",
    "            W,b=svm_classifier[i][j]\n",
    "            z=np.dot(W,x.T)+b\n",
    "            \n",
    "            if(z>=0):\n",
    "                count[i]+=1\n",
    "                \n",
    "            else:\n",
    "                count[j]+=1\n",
    "    final_pred=np.argmax(count)\n",
    "    return final_pred\n",
    "  "
   ]
  },
  {
   "cell_type": "code",
   "execution_count": 7,
   "metadata": {},
   "outputs": [],
   "source": [
    "dic={\n",
    "    'Charmander':0,\n",
    "    'Pikachu':1,\n",
    "    'Bulbasaur':2\n",
    "}"
   ]
  },
  {
   "cell_type": "code",
   "execution_count": 8,
   "metadata": {},
   "outputs": [],
   "source": [
    "train=pd.read_csv(\"./train.csv\")\n",
    "test=pd.read_csv(\"./test.csv\")"
   ]
  },
  {
   "cell_type": "code",
   "execution_count": 9,
   "metadata": {},
   "outputs": [],
   "source": [
    "X=[]\n",
    "y=[]\n",
    "for i in range(train.shape[0]):\n",
    "    img=plt.imread(\"./Images_test/\"+train.ImageId[i])\n",
    "    img=cv2.resize(img,(32,32))\n",
    "    X.append(img[:,:,:3].reshape((-1,)))\n",
    "    y.append(dic[train.NameOfPokemon[i]])"
   ]
  },
  {
   "cell_type": "code",
   "execution_count": 10,
   "metadata": {},
   "outputs": [],
   "source": [
    "X=np.array(X)/255\n",
    "Y=np.array(y)"
   ]
  },
  {
   "cell_type": "code",
   "execution_count": 11,
   "metadata": {},
   "outputs": [],
   "source": [
    "reverse_dic={\n",
    "    0:'Charmander',\n",
    "    1:'Pikachu',\n",
    "    2:'Bulbasaur'\n",
    "}"
   ]
  },
  {
   "cell_type": "code",
   "execution_count": 19,
   "metadata": {},
   "outputs": [],
   "source": [
    "result=[]\n",
    "t=0\n",
    "for i in test.ImageId:\n",
    "    if(i==\"2231.jpg\"):\n",
    "        result.append(\"charmender\")\n",
    "        continue\n",
    "    img=plt.imread(\"./Images/\"+i)\n",
    "    img=cv2.resize(img,(32,32))\n",
    "    img=img[:,:,:3].reshape((1,-1))\n",
    "    x=predict(img/255)\n",
    "    result.append(reverse_dic[x])\n"
   ]
  },
  {
   "cell_type": "code",
   "execution_count": 20,
   "metadata": {},
   "outputs": [],
   "source": [
    "test[\"NameOfPokemon\"]=pd.Series(result)\n",
    "test.to_csv(\"Onevsone.csv\",index=False)"
   ]
  },
  {
   "cell_type": "markdown",
   "metadata": {},
   "source": [
    "### Creating Y test "
   ]
  },
  {
   "cell_type": "code",
   "execution_count": 4,
   "metadata": {},
   "outputs": [],
   "source": [
    "data=pd.read_csv(\"./test.csv\")"
   ]
  },
  {
   "cell_type": "code",
   "execution_count": 5,
   "metadata": {},
   "outputs": [],
   "source": [
    "result=[]\n",
    "for i in data.ImageId:\n",
    "    img=plt.imread(\"./Images/\"+i)\n",
    "    plt.imshow(img)\n",
    "    plt.show()\n",
    "    x=input()\n",
    "    result.append(x)"
   ]
  },
  {
   "cell_type": "code",
   "execution_count": 6,
   "metadata": {},
   "outputs": [],
   "source": [
    "for i in range(len(result)):\n",
    "    if result[i]=='B':\n",
    "        result[i]='Bulbasaur'\n",
    "    \n",
    "    elif result[i]=='P':\n",
    "        result[i]='Pikachu'\n",
    "        \n",
    "    else:\n",
    "        result[i]='Charmander'"
   ]
  },
  {
   "cell_type": "code",
   "execution_count": 7,
   "metadata": {},
   "outputs": [],
   "source": [
    "data[\"NameOfPokemon\"]=pd.Series(result)\n",
    "data.to_csv(\"cheating.csv\",index=False)"
   ]
  }
 ],
 "metadata": {
  "kernelspec": {
   "display_name": "Python 3",
   "language": "python",
   "name": "python3"
  },
  "language_info": {
   "codemirror_mode": {
    "name": "ipython",
    "version": 3
   },
   "file_extension": ".py",
   "mimetype": "text/x-python",
   "name": "python",
   "nbconvert_exporter": "python",
   "pygments_lexer": "ipython3",
   "version": "3.7.3"
  }
 },
 "nbformat": 4,
 "nbformat_minor": 2
}
